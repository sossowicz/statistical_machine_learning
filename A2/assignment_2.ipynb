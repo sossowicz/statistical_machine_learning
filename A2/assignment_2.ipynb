{
 "cells": [
  {
   "cell_type": "code",
   "execution_count": 36,
   "metadata": {},
   "outputs": [],
   "source": [
    "# Importing libraries\n",
    "import pandas as pd\n",
    "import numpy as np\n",
    "import cvxpy as cp\n",
    "\n",
    "from sklearn.svm import LinearSVC\n",
    "from sklearn.metrics import accuracy_score"
   ]
  },
  {
   "cell_type": "code",
   "execution_count": 37,
   "metadata": {},
   "outputs": [],
   "source": [
    "# Function to load files from csv file\n",
    "def loadCVS(fileName):\n",
    "    data = pd.read_csv(fileName, header = None)\n",
    "\n",
    "    # Label values from 0 to -1\n",
    "    data.loc[data[0] == 0, 0] = -1\n",
    "\n",
    "    # Separate features and labels\n",
    "    X = data.drop([0], axis = 1).to_numpy()\n",
    "    Y = data[0].to_numpy()\n",
    "\n",
    "    return X, Y"
   ]
  },
  {
   "cell_type": "code",
   "execution_count": 38,
   "metadata": {},
   "outputs": [],
   "source": [
    "# Load CSV files into train and test\n",
    "X_trainLoad, Y_trainLoad = loadCVS('train.csv')\n",
    "X_test, Y_test = loadCVS('test.csv')\n",
    "\n",
    "# Separate data into train and validation sets\n",
    "X_train, X_validation = X_trainLoad[:4000, :], X_trainLoad[4000:, :]\n",
    "Y_train, Y_validation = Y_trainLoad[:4000], Y_trainLoad[4000:]"
   ]
  },
  {
   "cell_type": "code",
   "execution_count": 39,
   "metadata": {},
   "outputs": [],
   "source": [
    "# Training algorithm of soft-margin Linear SVM in primal form\n",
    "def svm_train_primal(data_train, label_train, regularisation_para_C):\n",
    "    numData, numFeatures = np.shape(data_train)\n",
    "\n",
    "    # Variable setting\n",
    "    weight = cp.Variable(shape=(numFeatures, 1), name='weight')\n",
    "    bias = cp.Variable(name='bias')\n",
    "    c = regularisation_para_C\n",
    "    slack = cp.Variable(shape=(numData, 1), name='slack')\n",
    "\n",
    "    # Solve\n",
    "    findMin = cp.Minimize(0.5*cp.square(cp.norm(weight,2)) + c/numData * cp.sum(slack))\n",
    "    findConstraints = [cp.multiply(label_train.reshape(-1,1), data_train @ (weight+bias)) >= 1 - slack, slack >= 0]\n",
    "    answer = cp.Problem(findMin, findConstraints)\n",
    "    answer.solve()\n",
    "\n",
    "    return answer"
   ]
  },
  {
   "cell_type": "code",
   "execution_count": 40,
   "metadata": {},
   "outputs": [],
   "source": [
    "# Testing algorithm of soft-margin Linear SVM in primal form\n",
    "def svm_predict_primal(data_test, label_test, svm_model):\n",
    "    # Variable setting\n",
    "    weight = svm_model.var_dict['weight'].value\n",
    "    bias = svm_model.var_dict['bias'].value\n",
    "\n",
    "    # Solve\n",
    "    Y = data_test @ weight + bias\n",
    "    Y[Y > 0] = 1\n",
    "    Y[Y <= 0] = -1\n",
    "    answer = accuracy_score(label_test.reshape(-1, 1), Y)\n",
    "\n",
    "    return answer"
   ]
  },
  {
   "cell_type": "code",
   "execution_count": 41,
   "metadata": {},
   "outputs": [
    {
     "name": "stdout",
     "output_type": "stream",
     "text": [
      "\n",
      " Solution of b : 0.0015240663360743323\n",
      "\n",
      " Solution of w : -2.0496487840304667e-10\n",
      "\n",
      " Test Accuracy : 0.956\n"
     ]
    }
   ],
   "source": [
    "# Question 2 run\n",
    "regularisation_para_C = 100\n",
    "svm_model = svm_train_primal (X_train, Y_train, regularisation_para_C)\n",
    "test_accuracy = svm_predict_primal (X_test, Y_test, svm_model)\n",
    "\n",
    "# Solution of b \n",
    "print(f\"\\n Solution of b : {svm_model.var_dict['bias'].value}\")\n",
    "# Sum of all dimensions of w solution\n",
    "print(f\"\\n Solution of w : {np.sum(svm_model.var_dict['weight'].value)}\")\n",
    "# Accuracy\n",
    "print(f\"\\n Test Accuracy : {test_accuracy}\")"
   ]
  },
  {
   "cell_type": "code",
   "execution_count": null,
   "metadata": {},
   "outputs": [],
   "source": []
  }
 ],
 "metadata": {
  "kernelspec": {
   "display_name": "Python 3",
   "language": "python",
   "name": "python3"
  },
  "language_info": {
   "codemirror_mode": {
    "name": "ipython",
    "version": 3
   },
   "file_extension": ".py",
   "mimetype": "text/x-python",
   "name": "python",
   "nbconvert_exporter": "python",
   "pygments_lexer": "ipython3",
   "version": "3.10.11"
  },
  "orig_nbformat": 4
 },
 "nbformat": 4,
 "nbformat_minor": 2
}
